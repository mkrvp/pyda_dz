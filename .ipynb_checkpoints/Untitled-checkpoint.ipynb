{
 "cells": [
  {
   "cell_type": "markdown",
   "metadata": {},
   "source": [
    "# Домашнее задание"
   ]
  },
  {
   "cell_type": "markdown",
   "metadata": {},
   "source": [
    "Задание 1. Даны 2 строки: long_phrase и short_phrase. Напишите код, который проверяет действительно ли длинная фраза long_phrase длиннее короткой short_phrase. И выводит True или False в зависимости от результата сравнения."
   ]
  },
  {
   "cell_type": "code",
   "execution_count": null,
   "metadata": {},
   "outputs": [],
   "source": [
    "long_phrase = 'Насколько проще было бы писать программы, если бы не заказчики'\n",
    "short_phrase = '640Кб должно хватить для любых задач. Билл Гейтс (по легенде)'\n",
    "if long_phrase > short_phrase :\n",
    "    print ('true')\n",
    "else: \n",
    "    print ('false')"
   ]
  },
  {
   "cell_type": "markdown",
   "metadata": {},
   "source": [
    "# Задание 2. Дано значение объема файла в байтах (в мегабайте 2^20 байт). Напишите перевод этого значения в мегабайты в формате: \"Объем файла равен 213.68Mb\"."
   ]
  },
  {
   "cell_type": "code",
   "execution_count": 6,
   "metadata": {},
   "outputs": [
    {
     "name": "stdout",
     "output_type": "stream",
     "text": [
      "Значение в байтах 123\n",
      "Объем файла равен 0.00011730194091796875 Mb\n"
     ]
    }
   ],
   "source": [
    "x = int(input(\"Значение в байтах \"))\n",
    "y = x / 2**20\n",
    "print ('Объем файла равен', y, 'Mb')"
   ]
  },
  {
   "cell_type": "markdown",
   "metadata": {},
   "source": [
    "# Задание 3. Разработать приложение для определения знака зодиака по дате рождения. Пример: Введите месяц: март Введите число: 6 Вывод: Рыбы\n"
   ]
  },
  {
   "cell_type": "code",
   "execution_count": 3,
   "metadata": {},
   "outputs": [
    {
     "name": "stdout",
     "output_type": "stream",
     "text": [
      "Введите месяц Март\n",
      "Введите число 20\n",
      "Рыбы\n"
     ]
    }
   ],
   "source": [
    "Month = input(\"Введите месяц \")\n",
    "Date = int(input(\"Введите число \"))\n",
    "if Month == 'Январь' and Date < 21:\n",
    "    print('Козерог')\n",
    "elif Month == 'Январь' and Date >= 21:\n",
    "    print('Водолей')\n",
    "elif Month == 'Февраль' and Date < 21:\n",
    "    print('Водолей')\n",
    "elif Month == 'Февраль' and Date >= 21:\n",
    "    print('Рыбы')\n",
    "elif Month == 'Март' and Date < 21:\n",
    "    print('Рыбы')\n",
    "elif Month == 'Март' and Date >= 21:\n",
    "    print('Овен')\n",
    "elif Month == 'Апрель' and Date < 21:\n",
    "    print('Овен')\n",
    "elif Month == 'Апрель' and Date >= 21:\n",
    "    print('Телец')\n",
    "elif Month == 'Май' and Date < 21:\n",
    "    print('Телец')\n",
    "elif Month == 'Май' and Date >= 21:\n",
    "    print('Близнецы')\n",
    "elif Month == 'Июнь' and Date < 22:\n",
    "    print('Близнецы')\n",
    "elif Month == 'Июнь' and Date >= 22:\n",
    "    print('Рак')\n",
    "elif Month == 'Июль' and Date < 23:\n",
    "    print('Рак')\n",
    "elif Month == 'Июль' and Date >= 23:\n",
    "    print('Лев')\n",
    "elif Month == 'Август' and Date < 24:\n",
    "    print('Лев')\n",
    "elif Month == 'Август' and Date >= 24:\n",
    "    print('Дева')\n",
    "elif Month == 'Сентябрь' and Date < 24:\n",
    "    print('Дева')\n",
    "elif Month == 'Сентябрь' and Date >= 24:\n",
    "    print('Весы')\n",
    "elif Month == 'Октябрь' and Date < 24:\n",
    "    print('Весы')\n",
    "elif Month == 'Октябрь' and Date >= 24:\n",
    "    print('Скорпион')\n",
    "elif Month == 'Ноябрь' and Date < 23:\n",
    "    print('Скорпион')\n",
    "elif Month == 'Ноябрь' and Date >= 23:\n",
    "    print('Стрелец')\n",
    "elif Month == 'Декабрь' and Date < 22:\n",
    "    print('Стрелец')\n",
    "elif Month == 'Декабрь' and Date >= 22:\n",
    "    print('Козерог')"
   ]
  },
  {
   "cell_type": "markdown",
   "metadata": {},
   "source": [
    "\n",
    "\n",
    "Задание 4. Нужно разработать приложение для финансового планирования. Приложение учитывает сколько уходит на ипотеку, \"на жизнь\" и сколько нужно отложить на пенсию. Пользователь вводит:\n",
    "\n",
    "    заработанную плату в месяц.\n",
    "    сколько процентов от ЗП уходит на ипотеку.\n",
    "    сколько процентов от ЗП уходит \"на жизнь\".\n",
    "    сколько раз приходит премия в год.\n",
    "\n",
    "Остальная часть заработанной платы откладывается на пенсию.\n",
    "\n",
    "Также пользователю приходит премия в размере зарплаты, от которой половина уходит на отпуск, а вторая половина откладывается.\n",
    "\n",
    "Программа должна учитывать сколько премий было в год.\n",
    "\n",
    "Нужно вывести сколько денег тратит пользователь на ипотеку и сколько он накопит за год.\n",
    "\n",
    "Пример:\n",
    "\n",
    "Введите заработанную плату в месяц: 100000\n",
    "\n",
    "Введите сколько процентов уходит на ипотеку: 30\n",
    "\n",
    "Введите сколько процентов уходит на жизнь: 50\n",
    "\n",
    "Введите количество премий за год: 2\n",
    "\n",
    "Вывод: На ипотеку было потрачено: 360000 рублей Было накоплено: 340000 рублей"
   ]
  },
  {
   "cell_type": "code",
   "execution_count": 9,
   "metadata": {},
   "outputs": [
    {
     "name": "stdout",
     "output_type": "stream",
     "text": [
      "Введите заработанную плату в месяц: 100000\n",
      "Введите сколько процентов уходит на ипотеку: 30\n",
      "Введите сколько процентов уходит на жизнь: 50\n",
      "Введите количество премий за год: 2\n",
      "На ипотеку было потрачено:  360000.0 рублей\n",
      "Было накоплено:  340000 рублей\n"
     ]
    }
   ],
   "source": [
    "Salary = int(input(\"Введите заработанную плату в месяц: \"))\n",
    "Credit = int(input(\"Введите сколько процентов уходит на ипотеку: \"))\n",
    "Life = int(input(\"Введите сколько процентов уходит на жизнь: \"))\n",
    "Bonus = int(input(\"Введите количество премий за год: \"))\n",
    "X = 12 * Credit * Salary / 100\n",
    "print ('На ипотеку было потрачено: ', X, 'рублей')\n",
    "Y = (12 * (Salary  - Salary * Credit // 100 - Salary * Life // 100)) + (Bonus * Salary // 2)\n",
    "print ('Было накоплено: ', Y, 'рублей')"
   ]
  },
  {
   "cell_type": "code",
   "execution_count": null,
   "metadata": {},
   "outputs": [],
   "source": []
  }
 ],
 "metadata": {
  "kernelspec": {
   "display_name": "Python 3",
   "language": "python",
   "name": "python3"
  },
  "language_info": {
   "codemirror_mode": {
    "name": "ipython",
    "version": 3
   },
   "file_extension": ".py",
   "mimetype": "text/x-python",
   "name": "python",
   "nbconvert_exporter": "python",
   "pygments_lexer": "ipython3",
   "version": "3.7.6"
  }
 },
 "nbformat": 4,
 "nbformat_minor": 4
}
